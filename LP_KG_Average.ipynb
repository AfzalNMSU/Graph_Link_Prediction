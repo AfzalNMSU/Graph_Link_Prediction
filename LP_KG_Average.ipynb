{
  "nbformat": 4,
  "nbformat_minor": 0,
  "metadata": {
    "colab": {
      "name": "LP_KG_Average.ipynb",
      "provenance": [],
      "collapsed_sections": [],
      "include_colab_link": true
    },
    "kernelspec": {
      "display_name": "Python 3",
      "language": "python",
      "name": "python3"
    },
    "language_info": {
      "codemirror_mode": {
        "name": "ipython",
        "version": 3
      },
      "file_extension": ".py",
      "mimetype": "text/x-python",
      "name": "python",
      "nbconvert_exporter": "python",
      "pygments_lexer": "ipython3",
      "version": "3.8.5"
    },
    "widgets": {
      "application/vnd.jupyter.widget-state+json": {
        "117fdfe8423642649c155d72632a0747": {
          "model_module": "@jupyter-widgets/controls",
          "model_name": "HBoxModel",
          "state": {
            "_view_name": "HBoxView",
            "_dom_classes": [],
            "_model_name": "HBoxModel",
            "_view_module": "@jupyter-widgets/controls",
            "_model_module_version": "1.5.0",
            "_view_count": null,
            "_view_module_version": "1.5.0",
            "box_style": "",
            "layout": "IPY_MODEL_fe273cfa6455419a836480d3b4614909",
            "_model_module": "@jupyter-widgets/controls",
            "children": [
              "IPY_MODEL_cc36c878135d4bfcaa3cb99e3e5a51b3",
              "IPY_MODEL_c742d54e93184c2b88a5b3a47ccf38dd"
            ]
          }
        },
        "fe273cfa6455419a836480d3b4614909": {
          "model_module": "@jupyter-widgets/base",
          "model_name": "LayoutModel",
          "state": {
            "_view_name": "LayoutView",
            "grid_template_rows": null,
            "right": null,
            "justify_content": null,
            "_view_module": "@jupyter-widgets/base",
            "overflow": null,
            "_model_module_version": "1.2.0",
            "_view_count": null,
            "flex_flow": null,
            "width": null,
            "min_width": null,
            "border": null,
            "align_items": null,
            "bottom": null,
            "_model_module": "@jupyter-widgets/base",
            "top": null,
            "grid_column": null,
            "overflow_y": null,
            "overflow_x": null,
            "grid_auto_flow": null,
            "grid_area": null,
            "grid_template_columns": null,
            "flex": null,
            "_model_name": "LayoutModel",
            "justify_items": null,
            "grid_row": null,
            "max_height": null,
            "align_content": null,
            "visibility": null,
            "align_self": null,
            "height": null,
            "min_height": null,
            "padding": null,
            "grid_auto_rows": null,
            "grid_gap": null,
            "max_width": null,
            "order": null,
            "_view_module_version": "1.2.0",
            "grid_template_areas": null,
            "object_position": null,
            "object_fit": null,
            "grid_auto_columns": null,
            "margin": null,
            "display": null,
            "left": null
          }
        },
        "cc36c878135d4bfcaa3cb99e3e5a51b3": {
          "model_module": "@jupyter-widgets/controls",
          "model_name": "FloatProgressModel",
          "state": {
            "_view_name": "ProgressView",
            "style": "IPY_MODEL_2d652e71b044424ab66b59f1e088e106",
            "_dom_classes": [],
            "description": "Computing transition probabilities: 100%",
            "_model_name": "FloatProgressModel",
            "bar_style": "success",
            "max": 34,
            "_view_module": "@jupyter-widgets/controls",
            "_model_module_version": "1.5.0",
            "value": 34,
            "_view_count": null,
            "_view_module_version": "1.5.0",
            "orientation": "horizontal",
            "min": 0,
            "description_tooltip": null,
            "_model_module": "@jupyter-widgets/controls",
            "layout": "IPY_MODEL_cf8f2f9659e343dd8dff38ab1eeef701"
          }
        },
        "c742d54e93184c2b88a5b3a47ccf38dd": {
          "model_module": "@jupyter-widgets/controls",
          "model_name": "HTMLModel",
          "state": {
            "_view_name": "HTMLView",
            "style": "IPY_MODEL_62fc4be9583b430b8a16533ff21ad97c",
            "_dom_classes": [],
            "description": "",
            "_model_name": "HTMLModel",
            "placeholder": "​",
            "_view_module": "@jupyter-widgets/controls",
            "_model_module_version": "1.5.0",
            "value": " 34/34 [00:01&lt;00:00, 31.14it/s]",
            "_view_count": null,
            "_view_module_version": "1.5.0",
            "description_tooltip": null,
            "_model_module": "@jupyter-widgets/controls",
            "layout": "IPY_MODEL_bb5c620f0c7d4d24b396ed46f21a1d11"
          }
        },
        "2d652e71b044424ab66b59f1e088e106": {
          "model_module": "@jupyter-widgets/controls",
          "model_name": "ProgressStyleModel",
          "state": {
            "_view_name": "StyleView",
            "_model_name": "ProgressStyleModel",
            "description_width": "initial",
            "_view_module": "@jupyter-widgets/base",
            "_model_module_version": "1.5.0",
            "_view_count": null,
            "_view_module_version": "1.2.0",
            "bar_color": null,
            "_model_module": "@jupyter-widgets/controls"
          }
        },
        "cf8f2f9659e343dd8dff38ab1eeef701": {
          "model_module": "@jupyter-widgets/base",
          "model_name": "LayoutModel",
          "state": {
            "_view_name": "LayoutView",
            "grid_template_rows": null,
            "right": null,
            "justify_content": null,
            "_view_module": "@jupyter-widgets/base",
            "overflow": null,
            "_model_module_version": "1.2.0",
            "_view_count": null,
            "flex_flow": null,
            "width": null,
            "min_width": null,
            "border": null,
            "align_items": null,
            "bottom": null,
            "_model_module": "@jupyter-widgets/base",
            "top": null,
            "grid_column": null,
            "overflow_y": null,
            "overflow_x": null,
            "grid_auto_flow": null,
            "grid_area": null,
            "grid_template_columns": null,
            "flex": null,
            "_model_name": "LayoutModel",
            "justify_items": null,
            "grid_row": null,
            "max_height": null,
            "align_content": null,
            "visibility": null,
            "align_self": null,
            "height": null,
            "min_height": null,
            "padding": null,
            "grid_auto_rows": null,
            "grid_gap": null,
            "max_width": null,
            "order": null,
            "_view_module_version": "1.2.0",
            "grid_template_areas": null,
            "object_position": null,
            "object_fit": null,
            "grid_auto_columns": null,
            "margin": null,
            "display": null,
            "left": null
          }
        },
        "62fc4be9583b430b8a16533ff21ad97c": {
          "model_module": "@jupyter-widgets/controls",
          "model_name": "DescriptionStyleModel",
          "state": {
            "_view_name": "StyleView",
            "_model_name": "DescriptionStyleModel",
            "description_width": "",
            "_view_module": "@jupyter-widgets/base",
            "_model_module_version": "1.5.0",
            "_view_count": null,
            "_view_module_version": "1.2.0",
            "_model_module": "@jupyter-widgets/controls"
          }
        },
        "bb5c620f0c7d4d24b396ed46f21a1d11": {
          "model_module": "@jupyter-widgets/base",
          "model_name": "LayoutModel",
          "state": {
            "_view_name": "LayoutView",
            "grid_template_rows": null,
            "right": null,
            "justify_content": null,
            "_view_module": "@jupyter-widgets/base",
            "overflow": null,
            "_model_module_version": "1.2.0",
            "_view_count": null,
            "flex_flow": null,
            "width": null,
            "min_width": null,
            "border": null,
            "align_items": null,
            "bottom": null,
            "_model_module": "@jupyter-widgets/base",
            "top": null,
            "grid_column": null,
            "overflow_y": null,
            "overflow_x": null,
            "grid_auto_flow": null,
            "grid_area": null,
            "grid_template_columns": null,
            "flex": null,
            "_model_name": "LayoutModel",
            "justify_items": null,
            "grid_row": null,
            "max_height": null,
            "align_content": null,
            "visibility": null,
            "align_self": null,
            "height": null,
            "min_height": null,
            "padding": null,
            "grid_auto_rows": null,
            "grid_gap": null,
            "max_width": null,
            "order": null,
            "_view_module_version": "1.2.0",
            "grid_template_areas": null,
            "object_position": null,
            "object_fit": null,
            "grid_auto_columns": null,
            "margin": null,
            "display": null,
            "left": null
          }
        }
      }
    }
  },
  "cells": [
    {
      "cell_type": "markdown",
      "metadata": {
        "id": "view-in-github",
        "colab_type": "text"
      },
      "source": [
        "<a href=\"https://colab.research.google.com/github/AfzalNMSU/Graph_Link_Prediction/blob/main/LP_KG_Average.ipynb\" target=\"_parent\"><img src=\"https://colab.research.google.com/assets/colab-badge.svg\" alt=\"Open In Colab\"/></a>"
      ]
    },
    {
      "cell_type": "code",
      "metadata": {
        "colab": {
          "base_uri": "https://localhost:8080/"
        },
        "id": "6-gHGYf6_fxV",
        "outputId": "1f3aa48e-2486-42cc-be74-2133160d0ef4"
      },
      "source": [
        "!pip install node2vec "
      ],
      "execution_count": 1,
      "outputs": [
        {
          "output_type": "stream",
          "text": [
            "Collecting node2vec\n",
            "  Downloading https://files.pythonhosted.org/packages/87/c4/8e859a1099d78dbb00b25c6832b8ee9fe11110cc7f2f3a6a4bd37ada3185/node2vec-0.4.3.tar.gz\n",
            "Requirement already satisfied: networkx in /usr/local/lib/python3.7/dist-packages (from node2vec) (2.5.1)\n",
            "Requirement already satisfied: gensim in /usr/local/lib/python3.7/dist-packages (from node2vec) (3.6.0)\n",
            "Requirement already satisfied: numpy in /usr/local/lib/python3.7/dist-packages (from node2vec) (1.19.5)\n",
            "Requirement already satisfied: tqdm in /usr/local/lib/python3.7/dist-packages (from node2vec) (4.41.1)\n",
            "Requirement already satisfied: joblib>=0.13.2 in /usr/local/lib/python3.7/dist-packages (from node2vec) (1.0.1)\n",
            "Requirement already satisfied: decorator<5,>=4.3 in /usr/local/lib/python3.7/dist-packages (from networkx->node2vec) (4.4.2)\n",
            "Requirement already satisfied: scipy>=0.18.1 in /usr/local/lib/python3.7/dist-packages (from gensim->node2vec) (1.4.1)\n",
            "Requirement already satisfied: smart-open>=1.2.1 in /usr/local/lib/python3.7/dist-packages (from gensim->node2vec) (5.0.0)\n",
            "Requirement already satisfied: six>=1.5.0 in /usr/local/lib/python3.7/dist-packages (from gensim->node2vec) (1.15.0)\n",
            "Building wheels for collected packages: node2vec\n",
            "  Building wheel for node2vec (setup.py) ... \u001b[?25l\u001b[?25hdone\n",
            "  Created wheel for node2vec: filename=node2vec-0.4.3-cp37-none-any.whl size=5980 sha256=dd268b48f89149d5876b275bb58816424e9df853d2e7f3297032842ea0d329ab\n",
            "  Stored in directory: /root/.cache/pip/wheels/34/f4/60/55708b5e797260310451d919c8f898bbd4acd1901367001f20\n",
            "Successfully built node2vec\n",
            "Installing collected packages: node2vec\n",
            "Successfully installed node2vec-0.4.3\n"
          ],
          "name": "stdout"
        }
      ]
    },
    {
      "cell_type": "code",
      "metadata": {
        "id": "RbeM9hdQ_gqh"
      },
      "source": [
        "# from nodevectors.embedders import Node2Vec\n",
        "from node2vec import Node2Vec\n",
        "import networkx as nx\n",
        "\n",
        "class Node2Vec(Node2Vec):\n",
        "  \"\"\"\n",
        "  Parameters\n",
        "  ----------\n",
        "  p : float\n",
        "      p parameter of node2vec\n",
        "  q : float\n",
        "      q parameter of node2vec\n",
        "  d : int\n",
        "      dimensionality of the embedding vectors\n",
        "  \"\"\"\n",
        "  def __init__(self, graph, p=1, q=1, d=32, seed = 0):\n",
        "    super().__init__(\n",
        "                     graph = graph,\n",
        "                     walk_length=10,\n",
        "                     p=p,\n",
        "                     q=q,\n",
        "                     dimensions =d\n",
        "                  )"
      ],
      "execution_count": 2,
      "outputs": []
    },
    {
      "cell_type": "code",
      "metadata": {
        "id": "zhjb5vWU_gtE"
      },
      "source": [
        "import pandas as pd\n",
        "import numpy as np\n",
        "import matplotlib.pyplot as plt\n",
        "import sklearn\n",
        "%matplotlib inline"
      ],
      "execution_count": 3,
      "outputs": []
    },
    {
      "cell_type": "code",
      "metadata": {
        "id": "MkQ6Ocau_gwU"
      },
      "source": [
        "#Loading the Karate club graph from Networkx\n",
        "KG = nx.karate_club_graph()"
      ],
      "execution_count": 4,
      "outputs": []
    },
    {
      "cell_type": "code",
      "metadata": {
        "colab": {
          "base_uri": "https://localhost:8080/"
        },
        "id": "3nqpREgiUZtu",
        "outputId": "be9e6772-8a5b-40b6-cffc-e0a78d8a699b"
      },
      "source": [
        "print(nx.number_of_nodes(KG))\n",
        "print(nx.number_of_edges(KG))\n",
        "print(nx.is_directed(KG))"
      ],
      "execution_count": 5,
      "outputs": [
        {
          "output_type": "stream",
          "text": [
            "34\n",
            "78\n",
            "False\n"
          ],
          "name": "stdout"
        }
      ]
    },
    {
      "cell_type": "code",
      "metadata": {
        "colab": {
          "base_uri": "https://localhost:8080/"
        },
        "id": "NdUceh1uUZty",
        "outputId": "ced96635-2615-4a76-ef6b-d76937cb5ac4"
      },
      "source": [
        "type(KG)"
      ],
      "execution_count": 6,
      "outputs": [
        {
          "output_type": "execute_result",
          "data": {
            "text/plain": [
              "networkx.classes.graph.Graph"
            ]
          },
          "metadata": {
            "tags": []
          },
          "execution_count": 6
        }
      ]
    },
    {
      "cell_type": "code",
      "metadata": {
        "colab": {
          "base_uri": "https://localhost:8080/"
        },
        "id": "D88DHRq0UZtz",
        "outputId": "006a8a0c-d0c2-4b76-da5e-6aeed14d1da3"
      },
      "source": [
        "edges=KG.edges\n",
        "type(edges)"
      ],
      "execution_count": 7,
      "outputs": [
        {
          "output_type": "execute_result",
          "data": {
            "text/plain": [
              "networkx.classes.reportviews.EdgeView"
            ]
          },
          "metadata": {
            "tags": []
          },
          "execution_count": 7
        }
      ]
    },
    {
      "cell_type": "code",
      "metadata": {
        "colab": {
          "base_uri": "https://localhost:8080/",
          "height": 319
        },
        "id": "xvqxDk-EUZt0",
        "outputId": "4f2c673a-52e3-4f51-e15b-f7632d3eb97b"
      },
      "source": [
        "nx.draw(KG, with_labels=True)\n",
        "plt.show()"
      ],
      "execution_count": 8,
      "outputs": [
        {
          "output_type": "display_data",
          "data": {
            "image/png": "[encoded data removed]",
            "text/plain": [
              "<Figure size 432x288 with 1 Axes>"
            ]
          },
          "metadata": {
            "tags": []
          }
        }
      ]
    },
    {
      "cell_type": "code",
      "metadata": {
        "id": "EN5xs2bt_gzA"
      },
      "source": [
        ""
      ],
      "execution_count": 8,
      "outputs": []
    },
    {
      "cell_type": "code",
      "metadata": {
        "colab": {
          "base_uri": "https://localhost:8080/",
          "height": 99,
          "referenced_widgets": [
            "117fdfe8423642649c155d72632a0747",
            "fe273cfa6455419a836480d3b4614909",
            "cc36c878135d4bfcaa3cb99e3e5a51b3",
            "c742d54e93184c2b88a5b3a47ccf38dd",
            "2d652e71b044424ab66b59f1e088e106",
            "cf8f2f9659e343dd8dff38ab1eeef701",
            "62fc4be9583b430b8a16533ff21ad97c",
            "bb5c620f0c7d4d24b396ed46f21a1d11"
          ]
        },
        "id": "DOmpR9tIAB_C",
        "outputId": "4909c6ea-033b-4efc-ba53-4271d27c32de"
      },
      "source": [
        "\n",
        "# Fit embedding model to the Karate Club graph\n",
        "n2v_model = Node2Vec(KG, 1, 1, 4, 1)\n",
        "\n",
        "# Embed nodes\n",
        "model = n2v_model.fit(window=10, min_count=1, batch_words=4)\n",
        "\n",
        "# Node to vec representation\n",
        "K8 =  model.wv.vectors\n",
        "K8\n",
        "K8.shape"
      ],
      "execution_count": 9,
      "outputs": [
        {
          "output_type": "display_data",
          "data": {
            "application/vnd.jupyter.widget-view+json": {
              "model_id": "117fdfe8423642649c155d72632a0747",
              "version_minor": 0,
              "version_major": 2
            },
            "text/plain": [
              "HBox(children=(FloatProgress(value=0.0, description='Computing transition probabilities', max=34.0, style=Prog…"
            ]
          },
          "metadata": {
            "tags": []
          }
        },
        {
          "output_type": "stream",
          "text": [
            "Generating walks (CPU: 1): 100%|██████████| 10/10 [00:00<00:00, 55.45it/s]"
          ],
          "name": "stderr"
        },
        {
          "output_type": "stream",
          "text": [
            "\n"
          ],
          "name": "stdout"
        },
        {
          "output_type": "stream",
          "text": [
            "\n"
          ],
          "name": "stderr"
        },
        {
          "output_type": "execute_result",
          "data": {
            "text/plain": [
              "(34, 4)"
            ]
          },
          "metadata": {
            "tags": []
          },
          "execution_count": 9
        }
      ]
    },
    {
      "cell_type": "code",
      "metadata": {
        "id": "2bHc60G7ACCT"
      },
      "source": [
        "#K8"
      ],
      "execution_count": 10,
      "outputs": []
    },
    {
      "cell_type": "code",
      "metadata": {
        "id": "LR9tptE7ACFD"
      },
      "source": [
        ""
      ],
      "execution_count": 10,
      "outputs": []
    },
    {
      "cell_type": "code",
      "metadata": {
        "id": "D7V7zzr7Bpou"
      },
      "source": [
        "from node2vec.edges import HadamardEmbedder, AverageEmbedder, WeightedL1Embedder, WeightedL2Embedder\n",
        "\n",
        "edges_embs = AverageEmbedder(keyed_vectors=model.wv)"
      ],
      "execution_count": 11,
      "outputs": []
    },
    {
      "cell_type": "code",
      "metadata": {
        "id": "4icGT0dZDYZh"
      },
      "source": [
        "from itertools import combinations\n",
        "all_possible_edges = list(combinations(KG.nodes(), 2))\n",
        "\n",
        "embeddings = []\n",
        "for edge in all_possible_edges:\n",
        "  edge_found = 0\n",
        "  if KG.has_edge(edge[0], edge[1]):\n",
        "    edge_found = 1\n",
        "  edge_tup = tuple(str(x) for x in edge)\n",
        "  # print(edges_embs[edge_tup])\n",
        "  embeddings.append([edges_embs[edge_tup][0], \n",
        "                    edges_embs[edge_tup][1], edges_embs[edge_tup][2], \n",
        "                    edges_embs[edge_tup][3],edge_found])"
      ],
      "execution_count": 12,
      "outputs": []
    },
    {
      "cell_type": "code",
      "metadata": {
        "colab": {
          "base_uri": "https://localhost:8080/"
        },
        "id": "BLG78cA-DYcM",
        "outputId": "dccfbf86-2fb8-4c9d-cf9c-c7164d6ef093"
      },
      "source": [
        "len(embeddings)"
      ],
      "execution_count": 13,
      "outputs": [
        {
          "output_type": "execute_result",
          "data": {
            "text/plain": [
              "561"
            ]
          },
          "metadata": {
            "tags": []
          },
          "execution_count": 13
        }
      ]
    },
    {
      "cell_type": "code",
      "metadata": {
        "colab": {
          "base_uri": "https://localhost:8080/",
          "height": 404
        },
        "id": "4NMpgxVzBprq",
        "outputId": "81bdb2e4-edb8-49db-bc28-3de4bbb64e73"
      },
      "source": [
        "df = pd.DataFrame(embeddings, columns=['x_a', 'x_b', 'x_c', 'x_d', 'y'])\n",
        "df\n"
      ],
      "execution_count": 14,
      "outputs": [
        {
          "output_type": "execute_result",
          "data": {
            "text/html": [
              "<div>\n",
              "<style scoped>\n",
              "    .dataframe tbody tr th:only-of-type {\n",
              "        vertical-align: middle;\n",
              "    }\n",
              "\n",
              "    .dataframe tbody tr th {\n",
              "        vertical-align: top;\n",
              "    }\n",
              "\n",
              "    .dataframe thead th {\n",
              "        text-align: right;\n",
              "    }\n",
              "</style>\n",
              "<table border=\"1\" class=\"dataframe\">\n",
              "  <thead>\n",
              "    <tr style=\"text-align: right;\">\n",
              "      <th></th>\n",
              "      <th>x_a</th>\n",
              "      <th>x_b</th>\n",
              "      <th>x_c</th>\n",
              "      <th>x_d</th>\n",
              "      <th>y</th>\n",
              "    </tr>\n",
              "  </thead>\n",
              "  <tbody>\n",
              "    <tr>\n",
              "      <th>0</th>\n",
              "      <td>-0.896007</td>\n",
              "      <td>-0.290936</td>\n",
              "      <td>0.602308</td>\n",
              "      <td>-0.206755</td>\n",
              "      <td>1</td>\n",
              "    </tr>\n",
              "    <tr>\n",
              "      <th>1</th>\n",
              "      <td>-1.052849</td>\n",
              "      <td>-0.330437</td>\n",
              "      <td>0.595828</td>\n",
              "      <td>-0.249251</td>\n",
              "      <td>1</td>\n",
              "    </tr>\n",
              "    <tr>\n",
              "      <th>2</th>\n",
              "      <td>-0.937646</td>\n",
              "      <td>-0.314807</td>\n",
              "      <td>0.549464</td>\n",
              "      <td>-0.291611</td>\n",
              "      <td>1</td>\n",
              "    </tr>\n",
              "    <tr>\n",
              "      <th>3</th>\n",
              "      <td>-0.867548</td>\n",
              "      <td>-0.258897</td>\n",
              "      <td>0.556458</td>\n",
              "      <td>-0.239069</td>\n",
              "      <td>1</td>\n",
              "    </tr>\n",
              "    <tr>\n",
              "      <th>4</th>\n",
              "      <td>-0.998770</td>\n",
              "      <td>-0.254805</td>\n",
              "      <td>0.670132</td>\n",
              "      <td>-0.167530</td>\n",
              "      <td>1</td>\n",
              "    </tr>\n",
              "    <tr>\n",
              "      <th>...</th>\n",
              "      <td>...</td>\n",
              "      <td>...</td>\n",
              "      <td>...</td>\n",
              "      <td>...</td>\n",
              "      <td>...</td>\n",
              "    </tr>\n",
              "    <tr>\n",
              "      <th>556</th>\n",
              "      <td>-0.771051</td>\n",
              "      <td>-0.145502</td>\n",
              "      <td>0.468413</td>\n",
              "      <td>-0.166672</td>\n",
              "      <td>1</td>\n",
              "    </tr>\n",
              "    <tr>\n",
              "      <th>557</th>\n",
              "      <td>-0.856342</td>\n",
              "      <td>-0.246263</td>\n",
              "      <td>0.538955</td>\n",
              "      <td>-0.147261</td>\n",
              "      <td>1</td>\n",
              "    </tr>\n",
              "    <tr>\n",
              "      <th>558</th>\n",
              "      <td>-0.780546</td>\n",
              "      <td>-0.115126</td>\n",
              "      <td>0.608867</td>\n",
              "      <td>-0.154777</td>\n",
              "      <td>1</td>\n",
              "    </tr>\n",
              "    <tr>\n",
              "      <th>559</th>\n",
              "      <td>-0.865838</td>\n",
              "      <td>-0.215887</td>\n",
              "      <td>0.679409</td>\n",
              "      <td>-0.135367</td>\n",
              "      <td>1</td>\n",
              "    </tr>\n",
              "    <tr>\n",
              "      <th>560</th>\n",
              "      <td>-0.931536</td>\n",
              "      <td>-0.216111</td>\n",
              "      <td>0.705134</td>\n",
              "      <td>-0.098864</td>\n",
              "      <td>1</td>\n",
              "    </tr>\n",
              "  </tbody>\n",
              "</table>\n",
              "<p>561 rows × 5 columns</p>\n",
              "</div>"
            ],
            "text/plain": [
              "          x_a       x_b       x_c       x_d  y\n",
              "0   -0.896007 -0.290936  0.602308 -0.206755  1\n",
              "1   -1.052849 -0.330437  0.595828 -0.249251  1\n",
              "2   -0.937646 -0.314807  0.549464 -0.291611  1\n",
              "3   -0.867548 -0.258897  0.556458 -0.239069  1\n",
              "4   -0.998770 -0.254805  0.670132 -0.167530  1\n",
              "..        ...       ...       ...       ... ..\n",
              "556 -0.771051 -0.145502  0.468413 -0.166672  1\n",
              "557 -0.856342 -0.246263  0.538955 -0.147261  1\n",
              "558 -0.780546 -0.115126  0.608867 -0.154777  1\n",
              "559 -0.865838 -0.215887  0.679409 -0.135367  1\n",
              "560 -0.931536 -0.216111  0.705134 -0.098864  1\n",
              "\n",
              "[561 rows x 5 columns]"
            ]
          },
          "metadata": {
            "tags": []
          },
          "execution_count": 14
        }
      ]
    },
    {
      "cell_type": "code",
      "metadata": {
        "id": "a4_xUGo9BpuS"
      },
      "source": [
        ""
      ],
      "execution_count": 14,
      "outputs": []
    },
    {
      "cell_type": "markdown",
      "metadata": {
        "id": "Gpp3q78FUZuP"
      },
      "source": [
        "## SHUFFLING"
      ]
    },
    {
      "cell_type": "code",
      "metadata": {
        "colab": {
          "base_uri": "https://localhost:8080/"
        },
        "id": "c7HvxU5qUZuQ",
        "outputId": "db355b57-ad17-4cd4-c0c1-738f88d95ce3"
      },
      "source": [
        "# converting dataframe to numpy for suffling\n",
        "dfNumpy = df.to_numpy(dtype=None, copy=False)\n",
        "dfNumpy"
      ],
      "execution_count": 15,
      "outputs": [
        {
          "output_type": "execute_result",
          "data": {
            "text/plain": [
              "array([[-0.89600706, -0.29093647,  0.60230792, -0.20675512,  1.        ],\n",
              "       [-1.05284894, -0.33043706,  0.59582752, -0.24925068,  1.        ],\n",
              "       [-0.93764591, -0.3148067 ,  0.54946434, -0.29161137,  1.        ],\n",
              "       ...,\n",
              "       [-0.78054607, -0.11512621,  0.60886669, -0.15477741,  1.        ],\n",
              "       [-0.86583757, -0.21588673,  0.67940933, -0.13536672,  1.        ],\n",
              "       [-0.93153584, -0.21611091,  0.70513409, -0.09886378,  1.        ]])"
            ]
          },
          "metadata": {
            "tags": []
          },
          "execution_count": 15
        }
      ]
    },
    {
      "cell_type": "code",
      "metadata": {
        "colab": {
          "base_uri": "https://localhost:8080/"
        },
        "id": "ZOZVJIknUZuQ",
        "outputId": "9c58086d-4690-4034-87f8-76ceba535032"
      },
      "source": [
        "#SHUFFLING\n",
        "np.random.shuffle(dfNumpy)\n",
        "dfNumpy_suf = dfNumpy\n",
        "dfNumpy_suf"
      ],
      "execution_count": 16,
      "outputs": [
        {
          "output_type": "execute_result",
          "data": {
            "text/plain": [
              "array([[-0.76498908, -0.14335345,  0.49032927, -0.15028501,  0.        ],\n",
              "       [-0.55086648, -0.17281413,  0.31898776, -0.08434375,  0.        ],\n",
              "       [-0.47591519, -0.05768585,  0.36483654, -0.0766613 ,  0.        ],\n",
              "       ...,\n",
              "       [-0.62315196, -0.13948314,  0.38283461, -0.09271347,  0.        ],\n",
              "       [-0.58186275, -0.08275449,  0.40009409, -0.1688589 ,  0.        ],\n",
              "       [-0.67212152, -0.19829689,  0.34544453, -0.09870706,  0.        ]])"
            ]
          },
          "metadata": {
            "tags": []
          },
          "execution_count": 16
        }
      ]
    },
    {
      "cell_type": "markdown",
      "metadata": {
        "id": "49XlljtWUZuQ"
      },
      "source": [
        "## NORMALIZATION"
      ]
    },
    {
      "cell_type": "code",
      "metadata": {
        "colab": {
          "base_uri": "https://localhost:8080/"
        },
        "id": "Tsjq6GmAUZuR",
        "outputId": "e56dbd26-bf56-4e26-d23e-67283ec62929"
      },
      "source": [
        "from sklearn.preprocessing import Normalizer\n",
        "dfNumpy_suf_norm = Normalizer(norm='max', copy=False).fit(dfNumpy_suf)\n",
        "dfNumpy_suf_norm\n",
        "\n",
        "# axis=0 refers to normalizing each features. axis=1 refers to normalizing samples\n",
        "# jodi l1/l2 norm deya hoy sekhetre y er je value pawa jay seta diye train kora jayna. kenona protita individual value hoye jay tokhon"
      ],
      "execution_count": 17,
      "outputs": [
        {
          "output_type": "execute_result",
          "data": {
            "text/plain": [
              "Normalizer(copy=False, norm='max')"
            ]
          },
          "metadata": {
            "tags": []
          },
          "execution_count": 17
        }
      ]
    },
    {
      "cell_type": "code",
      "metadata": {
        "id": "Mmmoz4arUZuR"
      },
      "source": [
        "dfNumpy = dfNumpy_suf_norm.transform(dfNumpy_suf)"
      ],
      "execution_count": 18,
      "outputs": []
    },
    {
      "cell_type": "code",
      "metadata": {
        "colab": {
          "base_uri": "https://localhost:8080/"
        },
        "id": "S29baegocDw6",
        "outputId": "86f995b8-af78-40c2-9152-fa261fb411ab"
      },
      "source": [
        "type(dfNumpy)"
      ],
      "execution_count": 19,
      "outputs": [
        {
          "output_type": "execute_result",
          "data": {
            "text/plain": [
              "numpy.ndarray"
            ]
          },
          "metadata": {
            "tags": []
          },
          "execution_count": 19
        }
      ]
    },
    {
      "cell_type": "code",
      "metadata": {
        "colab": {
          "base_uri": "https://localhost:8080/"
        },
        "id": "xuCQep55cr5D",
        "outputId": "7718f411-5d97-45d1-e057-a0935b56fead"
      },
      "source": [
        "dfNumpy"
      ],
      "execution_count": 20,
      "outputs": [
        {
          "output_type": "execute_result",
          "data": {
            "text/plain": [
              "array([[-1.56015382, -0.2923616 ,  1.        , -0.30649814,  0.        ],\n",
              "       [-1.72692046, -0.54175788,  1.        , -0.26441063,  0.        ],\n",
              "       [-1.30446141, -0.15811424,  1.        , -0.21012505,  0.        ],\n",
              "       ...,\n",
              "       [-1.6277315 , -0.36434307,  1.        , -0.24217629,  0.        ],\n",
              "       [-1.45431477, -0.20683756,  1.        , -0.42204797,  0.        ],\n",
              "       [-1.94567135, -0.57403395,  1.        , -0.28573924,  0.        ]])"
            ]
          },
          "metadata": {
            "tags": []
          },
          "execution_count": 20
        }
      ]
    },
    {
      "cell_type": "code",
      "metadata": {
        "id": "PhAUgUdTcr_A"
      },
      "source": [
        ""
      ],
      "execution_count": 20,
      "outputs": []
    },
    {
      "cell_type": "code",
      "metadata": {
        "id": "DNj7kAZLcsBJ"
      },
      "source": [
        ""
      ],
      "execution_count": 20,
      "outputs": []
    },
    {
      "cell_type": "code",
      "metadata": {
        "id": "Cm99Tk6ZcsDT"
      },
      "source": [
        ""
      ],
      "execution_count": 20,
      "outputs": []
    },
    {
      "cell_type": "code",
      "metadata": {
        "id": "8GwzITv_csF7"
      },
      "source": [
        ""
      ],
      "execution_count": 20,
      "outputs": []
    },
    {
      "cell_type": "markdown",
      "metadata": {
        "id": "PLMkhRGqV6lc"
      },
      "source": [
        "## splitting Train & Test"
      ]
    },
    {
      "cell_type": "code",
      "metadata": {
        "colab": {
          "base_uri": "https://localhost:8080/"
        },
        "id": "Nx6b3C0pUZuT",
        "outputId": "25a0a7eb-aa9c-45ec-8968-f8a492a9d846"
      },
      "source": [
        "# converting numpy to DataFrame\n",
        "dfDataframe = pd.DataFrame(dfNumpy, columns = ['x_a', 'x_b', 'x_c', 'x_d', 'y'])\n",
        "\n",
        "\n",
        "print(type(dfDataframe))\n",
        "print(dfDataframe)"
      ],
      "execution_count": 21,
      "outputs": [
        {
          "output_type": "stream",
          "text": [
            "<class 'pandas.core.frame.DataFrame'>\n",
            "          x_a       x_b       x_c       x_d    y\n",
            "0   -1.560154 -0.292362  1.000000 -0.306498  0.0\n",
            "1   -1.726920 -0.541758  1.000000 -0.264411  0.0\n",
            "2   -1.304461 -0.158114  1.000000 -0.210125  0.0\n",
            "3   -1.443499 -0.308768  1.000000 -0.425283  0.0\n",
            "4   -1.519237 -0.365297  1.000000 -0.331724  0.0\n",
            "..        ...       ...       ...       ...  ...\n",
            "556 -0.856342 -0.246263  0.538955 -0.147261  1.0\n",
            "557 -1.346014 -0.326701  1.000000 -0.366020  0.0\n",
            "558 -1.627731 -0.364343  1.000000 -0.242176  0.0\n",
            "559 -1.454315 -0.206838  1.000000 -0.422048  0.0\n",
            "560 -1.945671 -0.574034  1.000000 -0.285739  0.0\n",
            "\n",
            "[561 rows x 5 columns]\n"
          ],
          "name": "stdout"
        }
      ]
    },
    {
      "cell_type": "code",
      "metadata": {
        "colab": {
          "base_uri": "https://localhost:8080/",
          "height": 404
        },
        "id": "L6spxBxASPIy",
        "outputId": "4780cbe2-e03b-4366-9353-eb62fa9d4919"
      },
      "source": [
        "features = ['x_a', 'x_b', 'x_c', 'x_d']\n",
        "\n",
        "X = dfDataframe[features]\n",
        "X_train = X[0:334]\n",
        "X_train"
      ],
      "execution_count": 22,
      "outputs": [
        {
          "output_type": "execute_result",
          "data": {
            "text/html": [
              "<div>\n",
              "<style scoped>\n",
              "    .dataframe tbody tr th:only-of-type {\n",
              "        vertical-align: middle;\n",
              "    }\n",
              "\n",
              "    .dataframe tbody tr th {\n",
              "        vertical-align: top;\n",
              "    }\n",
              "\n",
              "    .dataframe thead th {\n",
              "        text-align: right;\n",
              "    }\n",
              "</style>\n",
              "<table border=\"1\" class=\"dataframe\">\n",
              "  <thead>\n",
              "    <tr style=\"text-align: right;\">\n",
              "      <th></th>\n",
              "      <th>x_a</th>\n",
              "      <th>x_b</th>\n",
              "      <th>x_c</th>\n",
              "      <th>x_d</th>\n",
              "    </tr>\n",
              "  </thead>\n",
              "  <tbody>\n",
              "    <tr>\n",
              "      <th>0</th>\n",
              "      <td>-1.560154</td>\n",
              "      <td>-0.292362</td>\n",
              "      <td>1.0</td>\n",
              "      <td>-0.306498</td>\n",
              "    </tr>\n",
              "    <tr>\n",
              "      <th>1</th>\n",
              "      <td>-1.726920</td>\n",
              "      <td>-0.541758</td>\n",
              "      <td>1.0</td>\n",
              "      <td>-0.264411</td>\n",
              "    </tr>\n",
              "    <tr>\n",
              "      <th>2</th>\n",
              "      <td>-1.304461</td>\n",
              "      <td>-0.158114</td>\n",
              "      <td>1.0</td>\n",
              "      <td>-0.210125</td>\n",
              "    </tr>\n",
              "    <tr>\n",
              "      <th>3</th>\n",
              "      <td>-1.443499</td>\n",
              "      <td>-0.308768</td>\n",
              "      <td>1.0</td>\n",
              "      <td>-0.425283</td>\n",
              "    </tr>\n",
              "    <tr>\n",
              "      <th>4</th>\n",
              "      <td>-1.519237</td>\n",
              "      <td>-0.365297</td>\n",
              "      <td>1.0</td>\n",
              "      <td>-0.331724</td>\n",
              "    </tr>\n",
              "    <tr>\n",
              "      <th>...</th>\n",
              "      <td>...</td>\n",
              "      <td>...</td>\n",
              "      <td>...</td>\n",
              "      <td>...</td>\n",
              "    </tr>\n",
              "    <tr>\n",
              "      <th>329</th>\n",
              "      <td>-1.540129</td>\n",
              "      <td>-0.582297</td>\n",
              "      <td>1.0</td>\n",
              "      <td>-0.338434</td>\n",
              "    </tr>\n",
              "    <tr>\n",
              "      <th>330</th>\n",
              "      <td>-1.774326</td>\n",
              "      <td>-0.594505</td>\n",
              "      <td>1.0</td>\n",
              "      <td>-0.254697</td>\n",
              "    </tr>\n",
              "    <tr>\n",
              "      <th>331</th>\n",
              "      <td>-1.497062</td>\n",
              "      <td>-0.356089</td>\n",
              "      <td>1.0</td>\n",
              "      <td>-0.498987</td>\n",
              "    </tr>\n",
              "    <tr>\n",
              "      <th>332</th>\n",
              "      <td>-1.572127</td>\n",
              "      <td>-0.124025</td>\n",
              "      <td>1.0</td>\n",
              "      <td>-0.467480</td>\n",
              "    </tr>\n",
              "    <tr>\n",
              "      <th>333</th>\n",
              "      <td>-1.849284</td>\n",
              "      <td>-0.454496</td>\n",
              "      <td>1.0</td>\n",
              "      <td>-0.519380</td>\n",
              "    </tr>\n",
              "  </tbody>\n",
              "</table>\n",
              "<p>334 rows × 4 columns</p>\n",
              "</div>"
            ],
            "text/plain": [
              "          x_a       x_b  x_c       x_d\n",
              "0   -1.560154 -0.292362  1.0 -0.306498\n",
              "1   -1.726920 -0.541758  1.0 -0.264411\n",
              "2   -1.304461 -0.158114  1.0 -0.210125\n",
              "3   -1.443499 -0.308768  1.0 -0.425283\n",
              "4   -1.519237 -0.365297  1.0 -0.331724\n",
              "..        ...       ...  ...       ...\n",
              "329 -1.540129 -0.582297  1.0 -0.338434\n",
              "330 -1.774326 -0.594505  1.0 -0.254697\n",
              "331 -1.497062 -0.356089  1.0 -0.498987\n",
              "332 -1.572127 -0.124025  1.0 -0.467480\n",
              "333 -1.849284 -0.454496  1.0 -0.519380\n",
              "\n",
              "[334 rows x 4 columns]"
            ]
          },
          "metadata": {
            "tags": []
          },
          "execution_count": 22
        }
      ]
    },
    {
      "cell_type": "code",
      "metadata": {
        "colab": {
          "base_uri": "https://localhost:8080/"
        },
        "id": "YoQWWdpvSPLO",
        "outputId": "ea574d2d-0647-4c31-fddc-1afe3ff306b1"
      },
      "source": [
        "y = dfDataframe['y']\n",
        "y_train = y[0:334]\n",
        "y_train"
      ],
      "execution_count": 23,
      "outputs": [
        {
          "output_type": "execute_result",
          "data": {
            "text/plain": [
              "0      0.0\n",
              "1      0.0\n",
              "2      0.0\n",
              "3      0.0\n",
              "4      0.0\n",
              "      ... \n",
              "329    0.0\n",
              "330    0.0\n",
              "331    0.0\n",
              "332    0.0\n",
              "333    0.0\n",
              "Name: y, Length: 334, dtype: float64"
            ]
          },
          "metadata": {
            "tags": []
          },
          "execution_count": 23
        }
      ]
    },
    {
      "cell_type": "code",
      "metadata": {
        "id": "mVDPxmkmSPOB"
      },
      "source": [
        ""
      ],
      "execution_count": 23,
      "outputs": []
    },
    {
      "cell_type": "code",
      "metadata": {
        "colab": {
          "base_uri": "https://localhost:8080/",
          "height": 404
        },
        "id": "NlC3HhzMUko6",
        "outputId": "869e3e62-f74b-4e35-a2a7-1cddbe999b0b"
      },
      "source": [
        "features = ['x_a', 'x_b', 'x_c', 'x_d']\n",
        "\n",
        "X2 = dfDataframe[features]\n",
        "X_test = X2[334:562]\n",
        "X_test"
      ],
      "execution_count": 24,
      "outputs": [
        {
          "output_type": "execute_result",
          "data": {
            "text/html": [
              "<div>\n",
              "<style scoped>\n",
              "    .dataframe tbody tr th:only-of-type {\n",
              "        vertical-align: middle;\n",
              "    }\n",
              "\n",
              "    .dataframe tbody tr th {\n",
              "        vertical-align: top;\n",
              "    }\n",
              "\n",
              "    .dataframe thead th {\n",
              "        text-align: right;\n",
              "    }\n",
              "</style>\n",
              "<table border=\"1\" class=\"dataframe\">\n",
              "  <thead>\n",
              "    <tr style=\"text-align: right;\">\n",
              "      <th></th>\n",
              "      <th>x_a</th>\n",
              "      <th>x_b</th>\n",
              "      <th>x_c</th>\n",
              "      <th>x_d</th>\n",
              "    </tr>\n",
              "  </thead>\n",
              "  <tbody>\n",
              "    <tr>\n",
              "      <th>334</th>\n",
              "      <td>-1.867571</td>\n",
              "      <td>-0.389657</td>\n",
              "      <td>1.000000</td>\n",
              "      <td>-0.275186</td>\n",
              "    </tr>\n",
              "    <tr>\n",
              "      <th>335</th>\n",
              "      <td>-1.327669</td>\n",
              "      <td>-0.233304</td>\n",
              "      <td>1.000000</td>\n",
              "      <td>-0.381179</td>\n",
              "    </tr>\n",
              "    <tr>\n",
              "      <th>336</th>\n",
              "      <td>-1.729957</td>\n",
              "      <td>-0.141469</td>\n",
              "      <td>1.000000</td>\n",
              "      <td>-0.205760</td>\n",
              "    </tr>\n",
              "    <tr>\n",
              "      <th>337</th>\n",
              "      <td>-1.319469</td>\n",
              "      <td>-0.353952</td>\n",
              "      <td>1.000000</td>\n",
              "      <td>-0.252686</td>\n",
              "    </tr>\n",
              "    <tr>\n",
              "      <th>338</th>\n",
              "      <td>-1.193731</td>\n",
              "      <td>-0.095207</td>\n",
              "      <td>1.000000</td>\n",
              "      <td>-0.225668</td>\n",
              "    </tr>\n",
              "    <tr>\n",
              "      <th>...</th>\n",
              "      <td>...</td>\n",
              "      <td>...</td>\n",
              "      <td>...</td>\n",
              "      <td>...</td>\n",
              "    </tr>\n",
              "    <tr>\n",
              "      <th>556</th>\n",
              "      <td>-0.856342</td>\n",
              "      <td>-0.246263</td>\n",
              "      <td>0.538955</td>\n",
              "      <td>-0.147261</td>\n",
              "    </tr>\n",
              "    <tr>\n",
              "      <th>557</th>\n",
              "      <td>-1.346014</td>\n",
              "      <td>-0.326701</td>\n",
              "      <td>1.000000</td>\n",
              "      <td>-0.366020</td>\n",
              "    </tr>\n",
              "    <tr>\n",
              "      <th>558</th>\n",
              "      <td>-1.627731</td>\n",
              "      <td>-0.364343</td>\n",
              "      <td>1.000000</td>\n",
              "      <td>-0.242176</td>\n",
              "    </tr>\n",
              "    <tr>\n",
              "      <th>559</th>\n",
              "      <td>-1.454315</td>\n",
              "      <td>-0.206838</td>\n",
              "      <td>1.000000</td>\n",
              "      <td>-0.422048</td>\n",
              "    </tr>\n",
              "    <tr>\n",
              "      <th>560</th>\n",
              "      <td>-1.945671</td>\n",
              "      <td>-0.574034</td>\n",
              "      <td>1.000000</td>\n",
              "      <td>-0.285739</td>\n",
              "    </tr>\n",
              "  </tbody>\n",
              "</table>\n",
              "<p>227 rows × 4 columns</p>\n",
              "</div>"
            ],
            "text/plain": [
              "          x_a       x_b       x_c       x_d\n",
              "334 -1.867571 -0.389657  1.000000 -0.275186\n",
              "335 -1.327669 -0.233304  1.000000 -0.381179\n",
              "336 -1.729957 -0.141469  1.000000 -0.205760\n",
              "337 -1.319469 -0.353952  1.000000 -0.252686\n",
              "338 -1.193731 -0.095207  1.000000 -0.225668\n",
              "..        ...       ...       ...       ...\n",
              "556 -0.856342 -0.246263  0.538955 -0.147261\n",
              "557 -1.346014 -0.326701  1.000000 -0.366020\n",
              "558 -1.627731 -0.364343  1.000000 -0.242176\n",
              "559 -1.454315 -0.206838  1.000000 -0.422048\n",
              "560 -1.945671 -0.574034  1.000000 -0.285739\n",
              "\n",
              "[227 rows x 4 columns]"
            ]
          },
          "metadata": {
            "tags": []
          },
          "execution_count": 24
        }
      ]
    },
    {
      "cell_type": "code",
      "metadata": {
        "colab": {
          "base_uri": "https://localhost:8080/"
        },
        "id": "rWkPjDBrUkrb",
        "outputId": "5256369d-9e67-4415-e12b-423349b0b1d2"
      },
      "source": [
        "y2 = dfDataframe['y']\n",
        "y_test = y2[334:562]\n",
        "y_test"
      ],
      "execution_count": 25,
      "outputs": [
        {
          "output_type": "execute_result",
          "data": {
            "text/plain": [
              "334    0.0\n",
              "335    0.0\n",
              "336    0.0\n",
              "337    0.0\n",
              "338    0.0\n",
              "      ... \n",
              "556    1.0\n",
              "557    0.0\n",
              "558    0.0\n",
              "559    0.0\n",
              "560    0.0\n",
              "Name: y, Length: 227, dtype: float64"
            ]
          },
          "metadata": {
            "tags": []
          },
          "execution_count": 25
        }
      ]
    },
    {
      "cell_type": "code",
      "metadata": {
        "id": "nBBRocycUkuU"
      },
      "source": [
        ""
      ],
      "execution_count": 25,
      "outputs": []
    },
    {
      "cell_type": "code",
      "metadata": {
        "id": "CDoHS2lWSPRB"
      },
      "source": [
        ""
      ],
      "execution_count": 25,
      "outputs": []
    },
    {
      "cell_type": "code",
      "metadata": {
        "id": "TSUIzM6HT07E"
      },
      "source": [
        ""
      ],
      "execution_count": 25,
      "outputs": []
    },
    {
      "cell_type": "markdown",
      "metadata": {
        "id": "_iU-6e2UVi8T"
      },
      "source": [
        "## applying RandomForest"
      ]
    },
    {
      "cell_type": "code",
      "metadata": {
        "colab": {
          "base_uri": "https://localhost:8080/"
        },
        "id": "HCMYYPNlT0-a",
        "outputId": "29ee2774-8bf1-43e4-926f-012a4e428dea"
      },
      "source": [
        "from sklearn.ensemble import RandomForestClassifier\n",
        "\n",
        "classifier = 'RandomForestClassifier'\n",
        "forest = RandomForestClassifier(max_features=\"sqrt\", max_samples=80)\n",
        "forest.fit(X_train, y_train)\n",
        "\n",
        "#print(classifier+ ' classifier for ' +dataset+ ' dataset')\n",
        "print(classifier+ ' Run Time:')\n",
        "%timeit forest.fit(X_train, y_train)\n",
        "\n",
        "print(f\"Train score: {forest.score(X_train, y_train)}\")"
      ],
      "execution_count": 42,
      "outputs": [
        {
          "output_type": "stream",
          "text": [
            "RandomForestClassifier Run Time:\n",
            "10 loops, best of 5: 132 ms per loop\n",
            "Train score: 1.0\n"
          ],
          "name": "stdout"
        }
      ]
    },
    {
      "cell_type": "code",
      "metadata": {
        "colab": {
          "base_uri": "https://localhost:8080/"
        },
        "id": "GGrOLxAYT1BO",
        "outputId": "9cb93d80-65e3-4868-ff28-7a448ea50e2b"
      },
      "source": [
        "print(f\"Test score: {forest.score(X_test, y_test)}\")\n",
        "\n",
        "forest.score(X_test, y_test)\n",
        "print('Accuracy for ' +classifier+ ' classifier: %.2f' % forest.score(X_test, y_test))"
      ],
      "execution_count": 43,
      "outputs": [
        {
          "output_type": "stream",
          "text": [
            "Test score: 0.9955947136563876\n",
            "Accuracy for RandomForestClassifier classifier: 1.00\n"
          ],
          "name": "stdout"
        }
      ]
    },
    {
      "cell_type": "code",
      "metadata": {
        "id": "v9zg6-0vU4zW",
        "colab": {
          "base_uri": "https://localhost:8080/"
        },
        "outputId": "46e528cc-d17e-40ac-c917-3ed2d0b867dc"
      },
      "source": [
        "from sklearn import metrics\n",
        "predicted = forest.predict(X_test)\n",
        "print(f\"Classification report for classifier RandomForestClassifier:\\n\"\n",
        "      f\"{metrics.classification_report(y_test, predicted)}\\n\")"
      ],
      "execution_count": 44,
      "outputs": [
        {
          "output_type": "stream",
          "text": [
            "Classification report for classifier RandomForestClassifier:\n",
            "              precision    recall  f1-score   support\n",
            "\n",
            "         0.0       0.99      1.00      1.00       195\n",
            "         1.0       1.00      0.97      0.98        32\n",
            "\n",
            "    accuracy                           1.00       227\n",
            "   macro avg       1.00      0.98      0.99       227\n",
            "weighted avg       1.00      1.00      1.00       227\n",
            "\n",
            "\n"
          ],
          "name": "stdout"
        }
      ]
    },
    {
      "cell_type": "code",
      "metadata": {
        "colab": {
          "base_uri": "https://localhost:8080/"
        },
        "id": "K8vXwCCeq9Ek",
        "outputId": "6f1eae57-07ec-454b-fdce-aa310ee7f0f7"
      },
      "source": [
        "from sklearn.ensemble import RandomForestClassifier\n",
        "\n",
        "classifier = 'RandomForestClassifier'\n",
        "forest = RandomForestClassifier(n_estimators=100, criterion='gini', max_features=\"sqrt\", max_samples=40)\n",
        "forest.fit(X_train, y_train)\n",
        "\n",
        "#print(classifier+ ' classifier for ' +dataset+ ' dataset')\n",
        "print(classifier+ ' Run Time:')\n",
        "%timeit forest.fit(X_train, y_train)\n",
        "\n",
        "print(f\"Train score: {forest.score(X_train, y_train)}\")"
      ],
      "execution_count": 51,
      "outputs": [
        {
          "output_type": "stream",
          "text": [
            "RandomForestClassifier Run Time:\n",
            "10 loops, best of 5: 130 ms per loop\n",
            "Train score: 1.0\n"
          ],
          "name": "stdout"
        }
      ]
    },
    {
      "cell_type": "code",
      "metadata": {
        "colab": {
          "base_uri": "https://localhost:8080/"
        },
        "id": "AOs8YQw5q9IB",
        "outputId": "bc8b163f-6459-4181-d06c-3ad5a59b46e1"
      },
      "source": [
        "print(f\"Test score: {forest.score(X_test, y_test)}\")\n",
        "\n",
        "forest.score(X_test, y_test)\n",
        "print('Accuracy for ' +classifier+ ' classifier: %.2f' % forest.score(X_test, y_test))"
      ],
      "execution_count": 52,
      "outputs": [
        {
          "output_type": "stream",
          "text": [
            "Test score: 1.0\n",
            "Accuracy for RandomForestClassifier classifier: 1.00\n"
          ],
          "name": "stdout"
        }
      ]
    },
    {
      "cell_type": "code",
      "metadata": {
        "id": "vNp3ayIXq9Ku",
        "colab": {
          "base_uri": "https://localhost:8080/"
        },
        "outputId": "a3b9be86-478a-4c62-fce3-cac2facc9b37"
      },
      "source": [
        "from sklearn import metrics\n",
        "predicted = forest.predict(X_test)\n",
        "print(f\"Classification report for classifier RandomForestClassifier:\\n\"\n",
        "      f\"{metrics.classification_report(y_test, predicted)}\\n\")"
      ],
      "execution_count": 53,
      "outputs": [
        {
          "output_type": "stream",
          "text": [
            "Classification report for classifier RandomForestClassifier:\n",
            "              precision    recall  f1-score   support\n",
            "\n",
            "         0.0       1.00      1.00      1.00       195\n",
            "         1.0       1.00      1.00      1.00        32\n",
            "\n",
            "    accuracy                           1.00       227\n",
            "   macro avg       1.00      1.00      1.00       227\n",
            "weighted avg       1.00      1.00      1.00       227\n",
            "\n",
            "\n"
          ],
          "name": "stdout"
        }
      ]
    },
    {
      "cell_type": "code",
      "metadata": {
        "colab": {
          "base_uri": "https://localhost:8080/"
        },
        "id": "EZ09-WeWq9NW",
        "outputId": "5943c76a-912a-4bac-9b07-367fed310f25"
      },
      "source": [
        "from sklearn.ensemble import RandomForestClassifier\n",
        "\n",
        "classifier = 'RandomForestClassifier'\n",
        "forest = RandomForestClassifier(n_estimators=100, criterion='entropy', max_features=\"sqrt\", max_samples=100)\n",
        "forest.fit(X_train, y_train)\n",
        "\n",
        "#print(classifier+ ' classifier for ' +dataset+ ' dataset')\n",
        "print(classifier+ ' Run Time:')\n",
        "%timeit forest.fit(X_train, y_train)\n",
        "\n",
        "print(f\"Train score: {forest.score(X_train, y_train)}\")"
      ],
      "execution_count": 54,
      "outputs": [
        {
          "output_type": "stream",
          "text": [
            "RandomForestClassifier Run Time:\n",
            "10 loops, best of 5: 134 ms per loop\n",
            "Train score: 1.0\n"
          ],
          "name": "stdout"
        }
      ]
    },
    {
      "cell_type": "code",
      "metadata": {
        "colab": {
          "base_uri": "https://localhost:8080/"
        },
        "id": "65YBmNnJq9P4",
        "outputId": "8e75f0f7-f220-4663-bdeb-46f2a3e1eb51"
      },
      "source": [
        "print(f\"Test score: {forest.score(X_test, y_test)}\")\n",
        "\n",
        "forest.score(X_test, y_test)\n",
        "print('Accuracy for ' +classifier+ ' classifier: %.2f' % forest.score(X_test, y_test))"
      ],
      "execution_count": 55,
      "outputs": [
        {
          "output_type": "stream",
          "text": [
            "Test score: 1.0\n",
            "Accuracy for RandomForestClassifier classifier: 1.00\n"
          ],
          "name": "stdout"
        }
      ]
    },
    {
      "cell_type": "code",
      "metadata": {
        "id": "54R3kgBFq9Sl",
        "colab": {
          "base_uri": "https://localhost:8080/"
        },
        "outputId": "6a737bb5-e669-42b8-dfc0-b769aa3a39f3"
      },
      "source": [
        "from sklearn import metrics\n",
        "predicted = forest.predict(X_test)\n",
        "print(f\"Classification report for classifier RandomForestClassifier:\\n\"\n",
        "      f\"{metrics.classification_report(y_test, predicted)}\\n\")"
      ],
      "execution_count": 56,
      "outputs": [
        {
          "output_type": "stream",
          "text": [
            "Classification report for classifier RandomForestClassifier:\n",
            "              precision    recall  f1-score   support\n",
            "\n",
            "         0.0       1.00      1.00      1.00       195\n",
            "         1.0       1.00      1.00      1.00        32\n",
            "\n",
            "    accuracy                           1.00       227\n",
            "   macro avg       1.00      1.00      1.00       227\n",
            "weighted avg       1.00      1.00      1.00       227\n",
            "\n",
            "\n"
          ],
          "name": "stdout"
        }
      ]
    },
    {
      "cell_type": "code",
      "metadata": {
        "colab": {
          "base_uri": "https://localhost:8080/"
        },
        "id": "YfZny8Fuq9VH",
        "outputId": "c46deb38-ceb7-4f4a-8563-5d9e26ec9dc3"
      },
      "source": [
        "from sklearn.ensemble import RandomForestClassifier\n",
        "\n",
        "classifier = 'RandomForestClassifier'\n",
        "forest = RandomForestClassifier(n_estimators=100, criterion='entropy', max_features=None, max_samples=60)\n",
        "forest.fit(X_train, y_train)\n",
        "\n",
        "#print(classifier+ ' classifier for ' +dataset+ ' dataset')\n",
        "print(classifier+ ' Run Time:')\n",
        "%timeit forest.fit(X_train, y_train)\n",
        "\n",
        "print(f\"Train score: {forest.score(X_train, y_train)}\")"
      ],
      "execution_count": 63,
      "outputs": [
        {
          "output_type": "stream",
          "text": [
            "RandomForestClassifier Run Time:\n",
            "10 loops, best of 5: 133 ms per loop\n",
            "Train score: 1.0\n"
          ],
          "name": "stdout"
        }
      ]
    },
    {
      "cell_type": "code",
      "metadata": {
        "colab": {
          "base_uri": "https://localhost:8080/"
        },
        "id": "KFx4jBnEU4_H",
        "outputId": "fcf076a2-7ea5-411f-9b06-e9a12a464df5"
      },
      "source": [
        "print(f\"Test score: {forest.score(X_test, y_test)}\")\n",
        "\n",
        "forest.score(X_test, y_test)\n",
        "print('Accuracy for ' +classifier+ ' classifier: %.2f' % forest.score(X_test, y_test))"
      ],
      "execution_count": 64,
      "outputs": [
        {
          "output_type": "stream",
          "text": [
            "Test score: 1.0\n",
            "Accuracy for RandomForestClassifier classifier: 1.00\n"
          ],
          "name": "stdout"
        }
      ]
    },
    {
      "cell_type": "code",
      "metadata": {
        "id": "2k6DehKgrq5g",
        "colab": {
          "base_uri": "https://localhost:8080/"
        },
        "outputId": "3b62c246-91c3-4f20-ca1d-73b13241323e"
      },
      "source": [
        "from sklearn import metrics\n",
        "predicted = forest.predict(X_test)\n",
        "print(f\"Classification report for classifier RandomForestClassifier:\\n\"\n",
        "      f\"{metrics.classification_report(y_test, predicted)}\\n\")"
      ],
      "execution_count": 65,
      "outputs": [
        {
          "output_type": "stream",
          "text": [
            "Classification report for classifier RandomForestClassifier:\n",
            "              precision    recall  f1-score   support\n",
            "\n",
            "         0.0       1.00      1.00      1.00       195\n",
            "         1.0       1.00      1.00      1.00        32\n",
            "\n",
            "    accuracy                           1.00       227\n",
            "   macro avg       1.00      1.00      1.00       227\n",
            "weighted avg       1.00      1.00      1.00       227\n",
            "\n",
            "\n"
          ],
          "name": "stdout"
        }
      ]
    },
    {
      "cell_type": "code",
      "metadata": {
        "colab": {
          "base_uri": "https://localhost:8080/"
        },
        "id": "_gLKvbezrq9n",
        "outputId": "4559f629-b796-44a6-e38e-f44aaa38a923"
      },
      "source": [
        "from sklearn.ensemble import RandomForestClassifier\n",
        "\n",
        "classifier = 'RandomForestClassifier'\n",
        "forest = RandomForestClassifier(n_estimators=100, criterion='entropy', max_depth=None, min_samples_split=2, max_features=None, max_samples=90)\n",
        "forest.fit(X_train, y_train)\n",
        "\n",
        "#print(classifier+ ' classifier for ' +dataset+ ' dataset')\n",
        "print(classifier+ ' Run Time:')\n",
        "%timeit forest.fit(X_train, y_train)\n",
        "\n",
        "print(f\"Train score: {forest.score(X_train, y_train)}\")"
      ],
      "execution_count": 60,
      "outputs": [
        {
          "output_type": "stream",
          "text": [
            "RandomForestClassifier Run Time:\n",
            "10 loops, best of 5: 136 ms per loop\n",
            "Train score: 1.0\n"
          ],
          "name": "stdout"
        }
      ]
    },
    {
      "cell_type": "code",
      "metadata": {
        "colab": {
          "base_uri": "https://localhost:8080/"
        },
        "id": "Zi8yKutsrrBw",
        "outputId": "f5e169b9-1d18-4d6f-e5ef-dcd72576733f"
      },
      "source": [
        "print(f\"Test score: {forest.score(X_test, y_test)}\")\n",
        "\n",
        "forest.score(X_test, y_test)\n",
        "print('Accuracy for ' +classifier+ ' classifier: %.2f' % forest.score(X_test, y_test))"
      ],
      "execution_count": 61,
      "outputs": [
        {
          "output_type": "stream",
          "text": [
            "Test score: 1.0\n",
            "Accuracy for RandomForestClassifier classifier: 1.00\n"
          ],
          "name": "stdout"
        }
      ]
    },
    {
      "cell_type": "code",
      "metadata": {
        "id": "7YpkDFqurrE3",
        "colab": {
          "base_uri": "https://localhost:8080/"
        },
        "outputId": "66d80668-7b3f-46f8-86ec-23f49d42c98e"
      },
      "source": [
        "from sklearn import metrics\n",
        "predicted = forest.predict(X_test)\n",
        "print(f\"Classification report for classifier RandomForestClassifier:\\n\"\n",
        "      f\"{metrics.classification_report(y_test, predicted)}\\n\")"
      ],
      "execution_count": 62,
      "outputs": [
        {
          "output_type": "stream",
          "text": [
            "Classification report for classifier RandomForestClassifier:\n",
            "              precision    recall  f1-score   support\n",
            "\n",
            "         0.0       1.00      1.00      1.00       195\n",
            "         1.0       1.00      1.00      1.00        32\n",
            "\n",
            "    accuracy                           1.00       227\n",
            "   macro avg       1.00      1.00      1.00       227\n",
            "weighted avg       1.00      1.00      1.00       227\n",
            "\n",
            "\n"
          ],
          "name": "stdout"
        }
      ]
    },
    {
      "cell_type": "code",
      "metadata": {
        "colab": {
          "base_uri": "https://localhost:8080/"
        },
        "id": "yUk2iiTztTtM",
        "outputId": "ec01550d-311d-4b8a-8868-e8ba6d990b70"
      },
      "source": [
        "from sklearn.ensemble import RandomForestClassifier\n",
        "\n",
        "classifier = 'RandomForestClassifier'\n",
        "forest = RandomForestClassifier(n_estimators=100, criterion='entropy', max_depth=None, min_samples_split=2, max_features=None, max_samples=40)\n",
        "forest.fit(X_train, y_train)\n",
        "\n",
        "#print(classifier+ ' classifier for ' +dataset+ ' dataset')\n",
        "print(classifier+ ' Run Time:')\n",
        "%timeit forest.fit(X_train, y_train)\n",
        "\n",
        "print(f\"Train score: {forest.score(X_train, y_train)}\")"
      ],
      "execution_count": 36,
      "outputs": [
        {
          "output_type": "stream",
          "text": [
            "RandomForestClassifier Run Time:\n",
            "10 loops, best of 5: 132 ms per loop\n",
            "Train score: 1.0\n"
          ],
          "name": "stdout"
        }
      ]
    },
    {
      "cell_type": "code",
      "metadata": {
        "colab": {
          "base_uri": "https://localhost:8080/"
        },
        "id": "Dff7WswLtTw1",
        "outputId": "71e5d0af-a53a-435f-c0b7-370ba02ab2ce"
      },
      "source": [
        "print(f\"Test score: {forest.score(X_test, y_test)}\")\n",
        "\n",
        "forest.score(X_test, y_test)\n",
        "print('Accuracy for ' +classifier+ ' classifier: %.2f' % forest.score(X_test, y_test))"
      ],
      "execution_count": 37,
      "outputs": [
        {
          "output_type": "stream",
          "text": [
            "Test score: 1.0\n",
            "Accuracy for RandomForestClassifier classifier: 1.00\n"
          ],
          "name": "stdout"
        }
      ]
    },
    {
      "cell_type": "code",
      "metadata": {
        "id": "GTwe4t4_tTzz"
      },
      "source": [
        ""
      ],
      "execution_count": 37,
      "outputs": []
    },
    {
      "cell_type": "code",
      "metadata": {
        "colab": {
          "base_uri": "https://localhost:8080/"
        },
        "id": "LRxKokOqtT2n",
        "outputId": "05c4b658-cd3c-414a-f725-8ea8c20a56fe"
      },
      "source": [
        "from sklearn.ensemble import RandomForestClassifier\n",
        "\n",
        "classifier = 'RandomForestClassifier'\n",
        "forest = RandomForestClassifier(n_estimators=10, criterion='entropy', max_depth=None, min_samples_split=2, max_features=None, max_samples=40)\n",
        "forest.fit(X_train, y_train)\n",
        "\n",
        "#print(classifier+ ' classifier for ' +dataset+ ' dataset')\n",
        "print(classifier+ ' Run Time:')\n",
        "%timeit forest.fit(X_train, y_train)\n",
        "\n",
        "print(f\"Train score: {forest.score(X_train, y_train)}\")"
      ],
      "execution_count": 38,
      "outputs": [
        {
          "output_type": "stream",
          "text": [
            "RandomForestClassifier Run Time:\n",
            "100 loops, best of 5: 14.6 ms per loop\n",
            "Train score: 1.0\n"
          ],
          "name": "stdout"
        }
      ]
    },
    {
      "cell_type": "code",
      "metadata": {
        "colab": {
          "base_uri": "https://localhost:8080/"
        },
        "id": "vvUFM9nPtT5Y",
        "outputId": "c9698c76-72c9-41cf-dd86-509946616be1"
      },
      "source": [
        "print(f\"Test score: {forest.score(X_test, y_test)}\")\n",
        "\n",
        "forest.score(X_test, y_test)\n",
        "print('Accuracy for ' +classifier+ ' classifier: %.2f' % forest.score(X_test, y_test))"
      ],
      "execution_count": 39,
      "outputs": [
        {
          "output_type": "stream",
          "text": [
            "Test score: 1.0\n",
            "Accuracy for RandomForestClassifier classifier: 1.00\n"
          ],
          "name": "stdout"
        }
      ]
    },
    {
      "cell_type": "code",
      "metadata": {
        "id": "E4dMEEKMvSZt"
      },
      "source": [
        ""
      ],
      "execution_count": 39,
      "outputs": []
    },
    {
      "cell_type": "code",
      "metadata": {
        "colab": {
          "base_uri": "https://localhost:8080/"
        },
        "id": "J1Zt-GrMuyq3",
        "outputId": "c55d560a-c06c-43be-dc1a-7b2064f0087a"
      },
      "source": [
        "from sklearn.ensemble import RandomForestClassifier\n",
        "\n",
        "classifier = 'RandomForestClassifier'\n",
        "forest = RandomForestClassifier(n_estimators=100, criterion='entropy', max_depth=None, min_samples_split=2,\n",
        "                                min_samples_leaf=1, min_weight_fraction_leaf=0.0, max_features='sqrt', max_leaf_nodes=None, min_impurity_decrease=0.0, \n",
        "                                min_impurity_split=None, bootstrap=True, oob_score=False, n_jobs=None, random_state=None, verbose=0, warm_start=False, \n",
        "                                class_weight=None, ccp_alpha=0.0, max_samples=80)\n",
        "forest.fit(X_train, y_train)\n",
        "\n",
        "#print(classifier+ ' classifier for ' +dataset+ ' dataset')\n",
        "print(classifier+ ' Run Time:')\n",
        "%timeit forest.fit(X_train, y_train)\n",
        "\n",
        "print(f\"Train score: {forest.score(X_train, y_train)}\")"
      ],
      "execution_count": 40,
      "outputs": [
        {
          "output_type": "stream",
          "text": [
            "RandomForestClassifier Run Time:\n",
            "10 loops, best of 5: 134 ms per loop\n",
            "Train score: 1.0\n"
          ],
          "name": "stdout"
        }
      ]
    },
    {
      "cell_type": "code",
      "metadata": {
        "colab": {
          "base_uri": "https://localhost:8080/"
        },
        "id": "TxFOFYeauytx",
        "outputId": "162fbc17-5f08-44dc-e78d-24126d2389fe"
      },
      "source": [
        "print(f\"Test score: {forest.score(X_test, y_test)}\")\n",
        "\n",
        "forest.score(X_test, y_test)\n",
        "print('Accuracy for ' +classifier+ ' classifier: %.2f' % forest.score(X_test, y_test))"
      ],
      "execution_count": 41,
      "outputs": [
        {
          "output_type": "stream",
          "text": [
            "Test score: 0.9955947136563876\n",
            "Accuracy for RandomForestClassifier classifier: 1.00\n"
          ],
          "name": "stdout"
        }
      ]
    },
    {
      "cell_type": "code",
      "metadata": {
        "id": "HU1Dfo1yuywA"
      },
      "source": [
        ""
      ],
      "execution_count": 41,
      "outputs": []
    },
    {
      "cell_type": "code",
      "metadata": {
        "id": "2no_gRKnuyyx"
      },
      "source": [
        ""
      ],
      "execution_count": 41,
      "outputs": []
    },
    {
      "cell_type": "code",
      "metadata": {
        "id": "qsuCDVp_uy1y"
      },
      "source": [
        ""
      ],
      "execution_count": 41,
      "outputs": []
    },
    {
      "cell_type": "code",
      "metadata": {
        "id": "CTg5qP03uy4i"
      },
      "source": [
        ""
      ],
      "execution_count": 41,
      "outputs": []
    }
  ]
}